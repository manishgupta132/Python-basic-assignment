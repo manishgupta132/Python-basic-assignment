{
  "nbformat": 4,
  "nbformat_minor": 0,
  "metadata": {
    "colab": {
      "provenance": []
    },
    "kernelspec": {
      "name": "python3",
      "display_name": "Python 3"
    },
    "language_info": {
      "name": "python"
    }
  },
  "cells": [
    {
      "cell_type": "markdown",
      "source": [
        "# Python Basics Questions\n"
      ],
      "metadata": {
        "id": "Uf2uLQCXO080"
      }
    },
    {
      "cell_type": "markdown",
      "source": [
        "1. What is Python, and why is it popular?\n",
        "->  Python is a high-level, interpreted programming language designed for ease of use and readability.\n",
        "\n",
        "   Python is popular due to following reasons :\n",
        "\n",
        "- Python is easy to learn and use :  It is easy to learn and use for beginners because it has simplified syntax that is not complicated at all\n",
        "- Has multiple libraries and frameworks: Python is quite popular due to its hundreds of different libraries and frameworks that can be used by developers.Some of the most popular libraries available in Python are NumPy and SciPy, Django etc\n",
        "- Flexibility and Reliability: The Python language is flexible enough to provide developers with ample time to try new experiments.\n",
        "\n",
        "2. What is an interpreter in Python?\n",
        "->   An interpreter in Python is a program that converts Python code into machine code line by line during execution.\n",
        "\n",
        "It translates the code you write into instructions that the computer can understand, executing them line by line.\n",
        "\n",
        "3. What are pre-defined keywords in Python?\n",
        "-> Python Keywords are some predefined and reserved words in Python that have special meanings.\n",
        "For eg: false, break, continue , def etc\n",
        "\n",
        "4. Can keywords be used as variable names?\n",
        "-> No, keywords cannot be used as an identifier, function, or variable name.\n",
        "\n",
        "5. What is mutability in Python?\n",
        "-> In Python, an object is considered mutable if its value can be changed after it has been created. for eg: lists\n",
        "\n",
        "6. Why are lists mutable, but tuples are immutable?\n",
        "-> Lists are mutable because it can be changed after creation. On the other hand, tuples can't be changed after creation.\n",
        "\n",
        "The mutability of lists allows us to modify, add, or remove elements during the execution of program. For example, we can use methods like append(), extend(), and remove() to modify lists.\n",
        "\n",
        "7. What is the difference between “==” and “is” operators in Python?\n",
        "-> \"==\" is comparison operator which is used to compare values whereas \"is\" is identity operator which checks if two variables point to the same object in memory or not.\n",
        "\n",
        "8. What are logical operators in Python ?\n",
        "-> Python offers three logical operators: and, or, and not. These operators, also known as Boolean operators, evaluate multiple conditions and determine an expression's overall truth value.\n",
        "\n",
        "9. What is type casting in Python?\n",
        "-> The process of converting one datatype to another is called typecasting. Basically there are 2 types of typecasting in Python. They are : Implicit and Explicit typecasting\n",
        "\n",
        "10. What is the difference between implicit and explicit type casting?\n",
        "->  An implicit type conversion is automatically performed by the compiler to control loss of data whereas explicit typecasting is user- defined conversion where type casting operator like (int), (float),(string) can be used.\n",
        "\n",
        "11. What is the purpose of conditional statements in Python?\n",
        "->  Conditional statements are used to control the flow of a program based on specific conditions such as if, elif and else.\n",
        "\n",
        "12. How does the elif statement work ?\n",
        "->  Elif statement is used to check multiple conditional expressions after the if condition or between the if and else conditions.\n",
        "For eg:\n",
        "a = 5\n",
        "if a > 0:\n",
        "  print(\"positive\")\n",
        "elif a < 0:\n",
        "  print(\"negative\")\n",
        "else:\n",
        "  print(\"Zero\")\n",
        "\n",
        "13. What is the difference between for and while loops?\n",
        "->  For loops and while loops are both control flow statements used to execute a block of code repeatedly. The main difference between for and while loop is that number of iterations is known or finite in for loop but it is not in while loop.\n",
        "\n",
        "14. Describe a scenario where a while loop is more suitable than a for loop.\n",
        "->  While loops are best suited when we do not know ahead of time the number of iterations. When we know this before entering the loop we can simply use for loop.\n",
        "\n",
        "for example: when a user is prompted to enter positive integers, and the loop should exit only when the user enters -1. Here, while loop will be more suitable."
      ],
      "metadata": {
        "id": "LqVzX2WOPBnl"
      }
    },
    {
      "cell_type": "markdown",
      "source": [
        "# Practical Questions\n"
      ],
      "metadata": {
        "id": "n7hjwCLlYWIN"
      }
    },
    {
      "cell_type": "code",
      "source": [
        "# Write a Python program to print \"Hello, World!\"\n",
        "\n",
        "print(\"Hello, World!\")"
      ],
      "metadata": {
        "id": "kRT-ZOEtO7ab",
        "colab": {
          "base_uri": "https://localhost:8080/"
        },
        "outputId": "507d8e08-a5a1-440c-87a2-5e5242c01939"
      },
      "execution_count": null,
      "outputs": [
        {
          "output_type": "stream",
          "name": "stdout",
          "text": [
            "Hello, World!\n"
          ]
        }
      ]
    },
    {
      "cell_type": "code",
      "source": [
        "# Write a Python program that displays your name and age.\n",
        "\n",
        "name = \"Preeti Gupta\"\n",
        "age = 21\n",
        "print(f\"Hello! I am {name} and my age is {age}\")"
      ],
      "metadata": {
        "colab": {
          "base_uri": "https://localhost:8080/"
        },
        "id": "xWfvcAtlYn_M",
        "outputId": "fe3ad315-1589-42a8-c125-4c4580c19c3f"
      },
      "execution_count": null,
      "outputs": [
        {
          "output_type": "stream",
          "name": "stdout",
          "text": [
            "Hello! I am Preeti Gupta and my age is 21\n"
          ]
        }
      ]
    },
    {
      "cell_type": "code",
      "source": [
        "#  Write code to print all the pre-defined keywords in Python using the keyword library\n",
        "\n",
        "import keyword\n",
        "print(keyword.kwlist)\n",
        "\n",
        "\n"
      ],
      "metadata": {
        "colab": {
          "base_uri": "https://localhost:8080/"
        },
        "id": "tA4H9khAZFI1",
        "outputId": "af820635-2187-41e9-cdeb-4d43f70edbc4"
      },
      "execution_count": null,
      "outputs": [
        {
          "output_type": "stream",
          "name": "stdout",
          "text": [
            "['False', 'None', 'True', 'and', 'as', 'assert', 'async', 'await', 'break', 'class', 'continue', 'def', 'del', 'elif', 'else', 'except', 'finally', 'for', 'from', 'global', 'if', 'import', 'in', 'is', 'lambda', 'nonlocal', 'not', 'or', 'pass', 'raise', 'return', 'try', 'while', 'with', 'yield']\n"
          ]
        }
      ]
    },
    {
      "cell_type": "code",
      "source": [
        "# Write a program that checks if a given word is a Python keyword\n",
        "\n",
        "import keyword\n",
        "\n",
        "def check_keyword(word):\n",
        " if keyword.iskeyword(word):\n",
        "   print(\"given word is a Python keyword\")\n",
        " else:\n",
        "   print(\"given word is not a Python keyword\")\n",
        "word = input(\"enter a word: \")\n",
        "check_keyword(word)\n"
      ],
      "metadata": {
        "colab": {
          "base_uri": "https://localhost:8080/"
        },
        "id": "3cvgZ9bIZqOs",
        "outputId": "f01287bf-fb3e-43ca-ada0-212f380fd727"
      },
      "execution_count": null,
      "outputs": [
        {
          "output_type": "stream",
          "name": "stdout",
          "text": [
            "enter a word: assert\n",
            "given word is a Python keyword\n"
          ]
        }
      ]
    },
    {
      "cell_type": "code",
      "source": [
        "# Create a list and tuple in Python, and demonstrate how attempting to change an element works differently for each\n",
        "\n",
        "list = [1,\"apple\", \"banana\", 7.5]\n",
        "print(\"list before modification\",list)\n",
        "list[2] = \"kiwi\"\n",
        "print(\"list after modification\",list)\n",
        "\n",
        "tuple = (\"1\", \"kiwi\", \"watermelon\")\n",
        "print(\"tuple before modification\",tuple)\n",
        "try:\n",
        " tuple[2] = \"guavas\"\n",
        "except TypeError as e:\n",
        " print(\"Tuples do not allow modification hence TYPE ERROR\")\n"
      ],
      "metadata": {
        "colab": {
          "base_uri": "https://localhost:8080/"
        },
        "id": "CCusnxS3ap9W",
        "outputId": "41f82f95-5464-46c7-d1dc-c44194167f56"
      },
      "execution_count": null,
      "outputs": [
        {
          "output_type": "stream",
          "name": "stdout",
          "text": [
            "list before modification [1, 'apple', 'banana', 7.5]\n",
            "list after modification [1, 'apple', 'kiwi', 7.5]\n",
            "tuple before modification ('1', 'kiwi', 'watermelon')\n",
            "Tuples do not allow modification hence TYPE ERROR\n"
          ]
        }
      ]
    },
    {
      "cell_type": "code",
      "source": [
        "# Write a function to demonstrate the behavior of mutable and immutable arguments.\n",
        "\n",
        "def function(mutable, immutable):\n",
        "  mutable[1] = \"guavas\"\n",
        "  print(\"dictionary after modification : \", mutable)\n",
        "\n",
        "  immutable += \"Everyone!\"\n",
        "  print(\"string after modification : \",immutable)\n",
        "\n",
        "dict = {1 : \"apple\", 2 : \"mangoes\", 3: \"oranges\"}\n",
        "print(\"dictionary before modification : \",dict)\n",
        "string = \"Hello \"\n",
        "print(\"string before modification : \",string)\n",
        "function(dict,string)\n"
      ],
      "metadata": {
        "colab": {
          "base_uri": "https://localhost:8080/"
        },
        "id": "TVm6hY7FcsKn",
        "outputId": "1834073b-9e46-4f37-8a71-0453284fd269"
      },
      "execution_count": null,
      "outputs": [
        {
          "output_type": "stream",
          "name": "stdout",
          "text": [
            "dictionary before modification :  {1: 'apple', 2: 'mangoes', 3: 'oranges'}\n",
            "string before modification :  Hello \n",
            "dictionary after modification :  {1: 'guavas', 2: 'mangoes', 3: 'oranges'}\n",
            "string after modification :  Hello Everyone!\n"
          ]
        }
      ]
    },
    {
      "cell_type": "code",
      "source": [
        "# Write a function to demonstrate the behavior of mutable and immutable arguments.\n",
        "\n",
        "def function(mutable, immutable):\n",
        "  mutable[1] = \"guavas\"\n",
        "  print(\"dictionary after modification : \", mutable)\n",
        "\n",
        "  immutable += \"Everyone!\" #string does not modify the original string.\n",
        "  print(\"string after modification : \",immutable) #it creates a new string \"Hello World\" proving that strings cannot be modified in place.\n",
        "\n",
        "dict = {1 : \"apple\", 2 : \"mangoes\", 3: \"oranges\"}\n",
        "print(\"dictionary before modification : \",dict)\n",
        "string = \"Hello \"\n",
        "print(\"string before modification : \",string)\n",
        "function(dict,string)"
      ],
      "metadata": {
        "colab": {
          "base_uri": "https://localhost:8080/"
        },
        "id": "1pDcfqn5j1VY",
        "outputId": "ff556d1f-92f0-4b3d-8b31-4ded746e32ca"
      },
      "execution_count": null,
      "outputs": [
        {
          "output_type": "stream",
          "name": "stdout",
          "text": [
            "dictionary before modification :  {1: 'apple', 2: 'mangoes', 3: 'oranges'}\n",
            "string before modification :  Hello \n",
            "dictionary after modification :  {1: 'guavas', 2: 'mangoes', 3: 'oranges'}\n",
            "string after modification :  Hello Everyone!\n"
          ]
        }
      ]
    },
    {
      "cell_type": "code",
      "source": [
        "#  Write a program to demonstrate the use of logical operators\n",
        "\n",
        "#demonstrating 'and' , 'or' operator\n",
        "num = int(input(\"enter a number to check factor: \"))\n",
        "if num % 4 == 0 and num % 6 == 0:\n",
        "    print(f\"{num} is divisible by both 4 and 6\")\n",
        "elif num % 4 == 0 or num % 6 == 0:\n",
        "    print(f\"{num} is divisible by 4 or 6\")\n",
        "else:\n",
        "    print(f\"{num} is not divisible by both 4 and 6\")\n",
        "\n",
        "\n",
        "#demonstrating 'not' operator\n",
        "if not num < 0 :\n",
        "  print(f\"{num} is positive number\")\n",
        "else :\n",
        "  print(f\"{num} is negative number\")"
      ],
      "metadata": {
        "colab": {
          "base_uri": "https://localhost:8080/"
        },
        "id": "Artj4YXclGOP",
        "outputId": "78589dd5-5df7-45f6-ce21-001015679512"
      },
      "execution_count": null,
      "outputs": [
        {
          "output_type": "stream",
          "name": "stdout",
          "text": [
            "enter a number to check factor: -3\n",
            "-3 is not divisible by both 4 and 6\n",
            "-3 is negative number\n"
          ]
        }
      ]
    },
    {
      "cell_type": "code",
      "source": [
        "# Write a Python program to convert user input from string to integer, float, and boolean types\n",
        "string = input(\"enter a string: \")\n",
        "try :\n",
        "  integer = int(string)\n",
        "  print(\"after converting string to integer, integer = \",integer)\n",
        "  float_value = float(string)\n",
        "  print(\"after converting string to float, float = \",float_value)\n",
        "except ValueError:\n",
        "  print(\"Invalid input for conversion\")\n",
        "\n",
        "print(\"after converting string to boolean, boolean = \",bool(string))"
      ],
      "metadata": {
        "colab": {
          "base_uri": "https://localhost:8080/"
        },
        "id": "Wx8RMvhLngtk",
        "outputId": "c7ef3f3b-8bf9-477c-98e3-429188301845"
      },
      "execution_count": null,
      "outputs": [
        {
          "output_type": "stream",
          "name": "stdout",
          "text": [
            "enter a string: #\n",
            "Invalid input for conversion\n",
            "after converting string to boolean, boolean =  True\n"
          ]
        }
      ]
    },
    {
      "cell_type": "code",
      "source": [
        "#  Write code to demonstrate type casting with list elements\n",
        "my_list = [1,\"6\", 5.4, 3, 99]\n",
        "for i in range(len(my_list)):\n",
        " my_list[i]= float(my_list[i])\n",
        "print(\"updated list : \",my_list)\n",
        "\n",
        "\n"
      ],
      "metadata": {
        "colab": {
          "base_uri": "https://localhost:8080/"
        },
        "id": "s1EDvWUkpwtN",
        "outputId": "983f1063-57ed-4d94-de5e-1b64525188ba"
      },
      "execution_count": null,
      "outputs": [
        {
          "output_type": "stream",
          "name": "stdout",
          "text": [
            "updated list :  [1.0, 6.0, 5.4, 3.0, 99.0]\n"
          ]
        }
      ]
    },
    {
      "cell_type": "code",
      "source": [
        "# Write a program that checks if a number is positive, negative, or zero\n",
        "\n",
        "num = int(input(\"enter a number to check: \"))\n",
        "if num > 0:\n",
        "  print(\"Positive number : \",num)\n",
        "elif num < 0:\n",
        "  print(\"Negative number : \",num)\n",
        "else:\n",
        "  print(\"the number is zero\")"
      ],
      "metadata": {
        "id": "s6YVoArRrtBn",
        "colab": {
          "base_uri": "https://localhost:8080/"
        },
        "outputId": "b4cc673f-4664-4f82-88df-cc4a69d6432d"
      },
      "execution_count": null,
      "outputs": [
        {
          "output_type": "stream",
          "name": "stdout",
          "text": [
            "enter a number to check: -33\n",
            "Negative number :  -33\n"
          ]
        }
      ]
    },
    {
      "cell_type": "code",
      "source": [
        "# Write a for loop to print numbers from 1 to 10\n",
        "for i in range(1,11):\n",
        "  print(i,end = \" \")"
      ],
      "metadata": {
        "colab": {
          "base_uri": "https://localhost:8080/"
        },
        "id": "O4gCzBvnmYfz",
        "outputId": "117dee57-662b-41a1-9ce8-72b7c965a4a2"
      },
      "execution_count": null,
      "outputs": [
        {
          "output_type": "stream",
          "name": "stdout",
          "text": [
            "1 2 3 4 5 6 7 8 9 10 "
          ]
        }
      ]
    },
    {
      "cell_type": "code",
      "source": [
        "# Write a Python program to find the sum of all even numbers between 1 and 50\n",
        "sum = 0\n",
        "for i in range(1,51):\n",
        "  if i % 2 == 0:\n",
        "    sum = sum + i\n",
        "print(\"the sum of all even numbers between 1 and 50 is\",sum)"
      ],
      "metadata": {
        "colab": {
          "base_uri": "https://localhost:8080/"
        },
        "id": "NBm8iQulmmJU",
        "outputId": "38adaf64-09ab-4e3c-988d-700fa0e1f2ee"
      },
      "execution_count": null,
      "outputs": [
        {
          "output_type": "stream",
          "name": "stdout",
          "text": [
            "the sum of all even numbers between 1 and 50 is 650\n"
          ]
        }
      ]
    },
    {
      "cell_type": "code",
      "source": [
        "# Write a program to reverse a string using a while loop\n",
        "reverse_string = \"\"\n",
        "string = input(\"enter a string to reverse: \")\n",
        "index = len(string)-1\n",
        "while index >= 0:\n",
        "  reverse_string += string[index]\n",
        "  index -= 1\n",
        "print(reverse_string)\n",
        "\n"
      ],
      "metadata": {
        "colab": {
          "base_uri": "https://localhost:8080/"
        },
        "id": "gu6VLPi0nE_p",
        "outputId": "ee2e6461-2513-421f-ead2-f56702dd30c1"
      },
      "execution_count": null,
      "outputs": [
        {
          "output_type": "stream",
          "name": "stdout",
          "text": [
            "enter a string to reverse: computer\n",
            "retupmoc\n"
          ]
        }
      ]
    },
    {
      "cell_type": "code",
      "source": [
        "# Write a Python program to calculate the factorial of a number provided by the user using a while loop.\n",
        "\n",
        "fact = 1\n",
        "num = int(input(\"enter a number for factorial: \"))\n",
        "org_num = num\n",
        "while num > 0:\n",
        "  fact = num * fact\n",
        "  num -=1\n",
        "print(f\"factorial of {org_num} is {fact} \")"
      ],
      "metadata": {
        "colab": {
          "base_uri": "https://localhost:8080/"
        },
        "id": "sgJ9zmOgnoGF",
        "outputId": "06f90fe6-43af-4219-9e6c-47c18d5b1285"
      },
      "execution_count": null,
      "outputs": [
        {
          "output_type": "stream",
          "name": "stdout",
          "text": [
            "enter a number for factorial: 10\n",
            "factorial of 10 is 3628800 \n"
          ]
        }
      ]
    },
    {
      "cell_type": "code",
      "source": [],
      "metadata": {
        "id": "PFaW-TNFvxFj"
      },
      "execution_count": null,
      "outputs": []
    }
  ]
}